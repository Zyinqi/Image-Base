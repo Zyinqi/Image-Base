{
 "cells": [
  {
   "cell_type": "markdown",
   "metadata": {},
   "source": [
    "# Q1 Data Preprocessing & Data Statistics"
   ]
  },
  {
   "cell_type": "markdown",
   "metadata": {},
   "source": [
    "Download data from Stock Trading, Financial Statements and Financial Indicators databases on CSMAR. There are 3 raw dataset to be processed:\n",
    "\n",
    "- **monthly_stock.csv**: monthly stock prices, stock returns, market value of tradable shares from Jan. 2000 to Sep. 2023\n",
    "\n",
    "- **quarterly_asset.csv**: quarterly total assets, total liabilities, earnings per share, ROA (return on asset), ROE (return on equity), R&D expenses from 2000Q1 to 2023Q3\n",
    "\n",
    "- **est_mar.csv**: establishment date and market type"
   ]
  },
  {
   "cell_type": "code",
   "execution_count": 1,
   "metadata": {},
   "outputs": [],
   "source": [
    "import pandas as pd\n",
    "import os\n",
    "import matplotlib.pyplot as plt\n",
    "import numpy as np\n",
    "\n"
   ]
  },
  {
   "cell_type": "code",
   "execution_count": 2,
   "metadata": {},
   "outputs": [],
   "source": [
    "monthly_stock = pd.read_csv('/Users/Zhuanz/Downloads/A1_FIN3080_121090037/monthly_stock.csv')\n",
    "#quarterly_asset = pd.read_csv('/Users/Zhuanz/Downloads/A1_FIN3080_121090037/quarterly_asset.csv')\n",
    "quarterly_asset = pd.read_csv('/Users/Zhuanz/Downloads/A1_FIN3080_121090037/FS_Combas(Merge Query).csv')\n",
    "quarterly_asset = quarterly_asset.query(\"`Statement Type` != 'B'\")  # Only A is selected\n",
    "est_mar = pd.read_csv('/Users/Zhuanz/Downloads/A1_FIN3080_121090037/est_mar.csv').dropna(axis = 0, how = 'any')"
   ]
  },
  {
   "cell_type": "markdown",
   "metadata": {},
   "source": [
    "Sampling to check the dataset structure."
   ]
  },
  {
   "cell_type": "code",
   "execution_count": 3,
   "metadata": {},
   "outputs": [
    {
     "data": {
      "text/plain": [
       "Stock Code                                        int64\n",
       "Trading Month                                    object\n",
       "Monthly Closing Price                           float64\n",
       "Market Value of Tradable Shares                 float64\n",
       "Monthly Return With Cash Dividend Reinvested    float64\n",
       "dtype: object"
      ]
     },
     "execution_count": 3,
     "metadata": {},
     "output_type": "execute_result"
    }
   ],
   "source": [
    "monthly_stock.dtypes"
   ]
  },
  {
   "cell_type": "code",
   "execution_count": 4,
   "metadata": {},
   "outputs": [
    {
     "data": {
      "text/plain": [
       "Stock Code                     int64\n",
       "Stock Short Name              object\n",
       "Ending Date of Statistics     object\n",
       "Statement Type                object\n",
       "Total Assets                 float64\n",
       "Total Liabilities            float64\n",
       "R&D Expenses                 float64\n",
       "Earnings per Share - TTM1    float64\n",
       "Net Assets per Share         float64\n",
       "Return on Assets - B         float64\n",
       "Return on Equity - B         float64\n",
       "dtype: object"
      ]
     },
     "execution_count": 4,
     "metadata": {},
     "output_type": "execute_result"
    }
   ],
   "source": [
    "quarterly_asset.dtypes"
   ]
  },
  {
   "cell_type": "code",
   "execution_count": 5,
   "metadata": {},
   "outputs": [
    {
     "data": {
      "text/plain": [
       "Stock Code                 int64\n",
       "Stock Acronym             object\n",
       "Date Listed (Of Stock)    object\n",
       "Establishment Date        object\n",
       "Market Type                int64\n",
       "dtype: object"
      ]
     },
     "execution_count": 5,
     "metadata": {},
     "output_type": "execute_result"
    }
   ],
   "source": [
    "est_mar.dtypes"
   ]
  },
  {
   "cell_type": "markdown",
   "metadata": {},
   "source": [
    "Specify quarter column in each dataset."
   ]
  },
  {
   "cell_type": "code",
   "execution_count": 6,
   "metadata": {},
   "outputs": [],
   "source": [
    "\n",
    "monthly_stock[\"Trading Month\"] = pd.to_datetime(monthly_stock[\"Trading Month\"], format='%b-%y') # convert strings into datetime\n",
    "monthly_stock[\"Quarter\"] = monthly_stock[\"Trading Month\"].dt.to_period('Q') - 1 \n",
    "\n",
    "quarterly_asset[\"Ending Date of Statistics\"] = pd.to_datetime(quarterly_asset[\"Ending Date of Statistics\"])\n",
    "quarterly_asset[\"Quarter\"] = quarterly_asset[\"Ending Date of Statistics\"].dt.to_period('Q')\n",
    "\n",
    "est_mar[\"Date Listed (Of Stock)\"] = pd.to_datetime(est_mar[\"Date Listed (Of Stock)\"])\n",
    "est_mar[\"Establishment Date\"] = pd.to_datetime(est_mar[\"Establishment Date\"])\n",
    "est_mar[\"Quarter\"]= est_mar[\"Establishment Date\"].dt.to_period('Q')\n"
   ]
  },
  {
   "cell_type": "markdown",
   "metadata": {},
   "source": [
    "Merge data into one dataset based on monthly data."
   ]
  },
  {
   "cell_type": "code",
   "execution_count": 7,
   "metadata": {},
   "outputs": [
    {
     "data": {
      "text/plain": [
       "Timestamp('2000-01-01 00:00:00')"
      ]
     },
     "execution_count": 7,
     "metadata": {},
     "output_type": "execute_result"
    }
   ],
   "source": [
    "monthly_stock['Trading Month'].min()"
   ]
  },
  {
   "cell_type": "code",
   "execution_count": 8,
   "metadata": {},
   "outputs": [
    {
     "data": {
      "text/plain": [
       "Timestamp('2000-01-01 00:00:00')"
      ]
     },
     "execution_count": 8,
     "metadata": {},
     "output_type": "execute_result"
    }
   ],
   "source": [
    "quarterly_asset[\"Ending Date of Statistics\"].min()"
   ]
  },
  {
   "cell_type": "code",
   "execution_count": 9,
   "metadata": {},
   "outputs": [
    {
     "data": {
      "text/plain": [
       "Stock Code                                               int64\n",
       "Trading Month                                   datetime64[ns]\n",
       "Monthly Closing Price                                  float64\n",
       "Market Value of Tradable Shares                        float64\n",
       "Monthly Return With Cash Dividend Reinvested           float64\n",
       "Quarter                                          period[Q-DEC]\n",
       "Stock Short Name                                        object\n",
       "Ending Date of Statistics                       datetime64[ns]\n",
       "Statement Type                                          object\n",
       "Total Assets                                           float64\n",
       "Total Liabilities                                      float64\n",
       "R&D Expenses                                           float64\n",
       "Earnings per Share - TTM1                              float64\n",
       "Net Assets per Share                                   float64\n",
       "Return on Assets - B                                   float64\n",
       "Return on Equity - B                                   float64\n",
       "dtype: object"
      ]
     },
     "execution_count": 9,
     "metadata": {},
     "output_type": "execute_result"
    }
   ],
   "source": [
    "df1 = pd.merge(monthly_stock, quarterly_asset, how=\"left\", left_on=[\"Stock Code\", \"Quarter\"], right_on=[\"Stock Code\", \"Quarter\"])\n",
    "df1.dtypes"
   ]
  },
  {
   "cell_type": "code",
   "execution_count": 10,
   "metadata": {},
   "outputs": [
    {
     "data": {
      "text/plain": [
       "Timestamp('2000-01-01 00:00:00')"
      ]
     },
     "execution_count": 10,
     "metadata": {},
     "output_type": "execute_result"
    }
   ],
   "source": [
    "df1['Trading Month'] = pd.to_datetime(df1['Trading Month'])\n",
    "df1['Trading Month'].min()"
   ]
  },
  {
   "cell_type": "markdown",
   "metadata": {},
   "source": [
    "## (a) "
   ]
  },
  {
   "cell_type": "markdown",
   "metadata": {},
   "source": [
    "#### P/E Ratios"
   ]
  },
  {
   "cell_type": "code",
   "execution_count": 11,
   "metadata": {},
   "outputs": [
    {
     "data": {
      "text/html": [
       "<div>\n",
       "<style scoped>\n",
       "    .dataframe tbody tr th:only-of-type {\n",
       "        vertical-align: middle;\n",
       "    }\n",
       "\n",
       "    .dataframe tbody tr th {\n",
       "        vertical-align: top;\n",
       "    }\n",
       "\n",
       "    .dataframe thead th {\n",
       "        text-align: right;\n",
       "    }\n",
       "</style>\n",
       "<table border=\"1\" class=\"dataframe\">\n",
       "  <thead>\n",
       "    <tr style=\"text-align: right;\">\n",
       "      <th></th>\n",
       "      <th>Stock Code</th>\n",
       "      <th>Trading Month</th>\n",
       "      <th>Monthly Closing Price</th>\n",
       "      <th>Market Value of Tradable Shares</th>\n",
       "      <th>Monthly Return With Cash Dividend Reinvested</th>\n",
       "      <th>Quarter</th>\n",
       "      <th>Stock Short Name</th>\n",
       "      <th>Ending Date of Statistics</th>\n",
       "      <th>Statement Type</th>\n",
       "      <th>Total Assets</th>\n",
       "      <th>Total Liabilities</th>\n",
       "      <th>R&amp;D Expenses</th>\n",
       "      <th>Earnings per Share - TTM1</th>\n",
       "      <th>Net Assets per Share</th>\n",
       "      <th>Return on Assets - B</th>\n",
       "      <th>Return on Equity - B</th>\n",
       "      <th>P/E Ratios</th>\n",
       "    </tr>\n",
       "  </thead>\n",
       "  <tbody>\n",
       "    <tr>\n",
       "      <th>245913</th>\n",
       "      <td>2369</td>\n",
       "      <td>2023-06-01</td>\n",
       "      <td>5.60</td>\n",
       "      <td>3169319.29</td>\n",
       "      <td>0.040892</td>\n",
       "      <td>2023Q1</td>\n",
       "      <td>ZYKJ</td>\n",
       "      <td>2023-03-31</td>\n",
       "      <td>A</td>\n",
       "      <td>3.125304e+09</td>\n",
       "      <td>2.092634e+09</td>\n",
       "      <td>11525044.13</td>\n",
       "      <td>-0.246231</td>\n",
       "      <td>1.821427</td>\n",
       "      <td>-0.020128</td>\n",
       "      <td>-0.055386</td>\n",
       "      <td>-68.228615</td>\n",
       "    </tr>\n",
       "    <tr>\n",
       "      <th>734429</th>\n",
       "      <td>600965</td>\n",
       "      <td>2019-06-01</td>\n",
       "      <td>10.60</td>\n",
       "      <td>8678230.12</td>\n",
       "      <td>-0.015784</td>\n",
       "      <td>2019Q1</td>\n",
       "      <td>FCGF</td>\n",
       "      <td>2019-01-01</td>\n",
       "      <td>A</td>\n",
       "      <td>2.813457e+09</td>\n",
       "      <td>7.372622e+08</td>\n",
       "      <td>NaN</td>\n",
       "      <td>NaN</td>\n",
       "      <td>NaN</td>\n",
       "      <td>NaN</td>\n",
       "      <td>NaN</td>\n",
       "      <td>NaN</td>\n",
       "    </tr>\n",
       "    <tr>\n",
       "      <th>338090</th>\n",
       "      <td>200026</td>\n",
       "      <td>2016-10-01</td>\n",
       "      <td>7.86</td>\n",
       "      <td>641753.28</td>\n",
       "      <td>0.038309</td>\n",
       "      <td>2016Q3</td>\n",
       "      <td>NaN</td>\n",
       "      <td>NaT</td>\n",
       "      <td>NaN</td>\n",
       "      <td>NaN</td>\n",
       "      <td>NaN</td>\n",
       "      <td>NaN</td>\n",
       "      <td>NaN</td>\n",
       "      <td>NaN</td>\n",
       "      <td>NaN</td>\n",
       "      <td>NaN</td>\n",
       "      <td>NaN</td>\n",
       "    </tr>\n",
       "  </tbody>\n",
       "</table>\n",
       "</div>"
      ],
      "text/plain": [
       "        Stock Code Trading Month  Monthly Closing Price  \\\n",
       "245913        2369    2023-06-01                   5.60   \n",
       "734429      600965    2019-06-01                  10.60   \n",
       "338090      200026    2016-10-01                   7.86   \n",
       "\n",
       "        Market Value of Tradable Shares  \\\n",
       "245913                       3169319.29   \n",
       "734429                       8678230.12   \n",
       "338090                        641753.28   \n",
       "\n",
       "        Monthly Return With Cash Dividend Reinvested Quarter Stock Short Name  \\\n",
       "245913                                      0.040892  2023Q1             ZYKJ   \n",
       "734429                                     -0.015784  2019Q1             FCGF   \n",
       "338090                                      0.038309  2016Q3              NaN   \n",
       "\n",
       "       Ending Date of Statistics Statement Type  Total Assets  \\\n",
       "245913                2023-03-31              A  3.125304e+09   \n",
       "734429                2019-01-01              A  2.813457e+09   \n",
       "338090                       NaT            NaN           NaN   \n",
       "\n",
       "        Total Liabilities  R&D Expenses  Earnings per Share - TTM1  \\\n",
       "245913       2.092634e+09   11525044.13                  -0.246231   \n",
       "734429       7.372622e+08           NaN                        NaN   \n",
       "338090                NaN           NaN                        NaN   \n",
       "\n",
       "        Net Assets per Share  Return on Assets - B  Return on Equity - B  \\\n",
       "245913              1.821427             -0.020128             -0.055386   \n",
       "734429                   NaN                   NaN                   NaN   \n",
       "338090                   NaN                   NaN                   NaN   \n",
       "\n",
       "        P/E Ratios  \n",
       "245913  -68.228615  \n",
       "734429         NaN  \n",
       "338090         NaN  "
      ]
     },
     "execution_count": 11,
     "metadata": {},
     "output_type": "execute_result"
    }
   ],
   "source": [
    "df1[\"P/E Ratios\"] = df1[\"Monthly Closing Price\"]/(df1[\"Earnings per Share - TTM1\"]/3)\n",
    "df1.sample(3)"
   ]
  },
  {
   "cell_type": "markdown",
   "metadata": {},
   "source": [
    "#### P/B Ratios"
   ]
  },
  {
   "cell_type": "code",
   "execution_count": 12,
   "metadata": {},
   "outputs": [
    {
     "data": {
      "text/html": [
       "<div>\n",
       "<style scoped>\n",
       "    .dataframe tbody tr th:only-of-type {\n",
       "        vertical-align: middle;\n",
       "    }\n",
       "\n",
       "    .dataframe tbody tr th {\n",
       "        vertical-align: top;\n",
       "    }\n",
       "\n",
       "    .dataframe thead th {\n",
       "        text-align: right;\n",
       "    }\n",
       "</style>\n",
       "<table border=\"1\" class=\"dataframe\">\n",
       "  <thead>\n",
       "    <tr style=\"text-align: right;\">\n",
       "      <th></th>\n",
       "      <th>Stock Code</th>\n",
       "      <th>Trading Month</th>\n",
       "      <th>Monthly Closing Price</th>\n",
       "      <th>Market Value of Tradable Shares</th>\n",
       "      <th>Monthly Return With Cash Dividend Reinvested</th>\n",
       "      <th>Quarter</th>\n",
       "      <th>Stock Short Name</th>\n",
       "      <th>Ending Date of Statistics</th>\n",
       "      <th>Statement Type</th>\n",
       "      <th>Total Assets</th>\n",
       "      <th>Total Liabilities</th>\n",
       "      <th>R&amp;D Expenses</th>\n",
       "      <th>Earnings per Share - TTM1</th>\n",
       "      <th>Net Assets per Share</th>\n",
       "      <th>Return on Assets - B</th>\n",
       "      <th>Return on Equity - B</th>\n",
       "      <th>P/E Ratios</th>\n",
       "      <th>P/B Ratios</th>\n",
       "    </tr>\n",
       "  </thead>\n",
       "  <tbody>\n",
       "    <tr>\n",
       "      <th>342343</th>\n",
       "      <td>200429</td>\n",
       "      <td>2003-01-01</td>\n",
       "      <td>3.19</td>\n",
       "      <td>968962.50</td>\n",
       "      <td>0.096220</td>\n",
       "      <td>2002Q4</td>\n",
       "      <td>NaN</td>\n",
       "      <td>NaT</td>\n",
       "      <td>NaN</td>\n",
       "      <td>NaN</td>\n",
       "      <td>NaN</td>\n",
       "      <td>NaN</td>\n",
       "      <td>NaN</td>\n",
       "      <td>NaN</td>\n",
       "      <td>NaN</td>\n",
       "      <td>NaN</td>\n",
       "      <td>NaN</td>\n",
       "      <td>NaN</td>\n",
       "    </tr>\n",
       "    <tr>\n",
       "      <th>451267</th>\n",
       "      <td>300699</td>\n",
       "      <td>2021-09-01</td>\n",
       "      <td>65.52</td>\n",
       "      <td>33291815.55</td>\n",
       "      <td>-0.102957</td>\n",
       "      <td>2021Q2</td>\n",
       "      <td>GWFC</td>\n",
       "      <td>2021-06-30</td>\n",
       "      <td>A</td>\n",
       "      <td>4.919905e+09</td>\n",
       "      <td>989627290.8</td>\n",
       "      <td>107136625.8</td>\n",
       "      <td>1.393622</td>\n",
       "      <td>7.582286</td>\n",
       "      <td>0.090533</td>\n",
       "      <td>0.113282</td>\n",
       "      <td>141.04255</td>\n",
       "      <td>8.641193</td>\n",
       "    </tr>\n",
       "    <tr>\n",
       "      <th>714</th>\n",
       "      <td>4</td>\n",
       "      <td>2000-01-01</td>\n",
       "      <td>13.39</td>\n",
       "      <td>557787.12</td>\n",
       "      <td>0.573443</td>\n",
       "      <td>1999Q4</td>\n",
       "      <td>NaN</td>\n",
       "      <td>NaT</td>\n",
       "      <td>NaN</td>\n",
       "      <td>NaN</td>\n",
       "      <td>NaN</td>\n",
       "      <td>NaN</td>\n",
       "      <td>NaN</td>\n",
       "      <td>NaN</td>\n",
       "      <td>NaN</td>\n",
       "      <td>NaN</td>\n",
       "      <td>NaN</td>\n",
       "      <td>NaN</td>\n",
       "    </tr>\n",
       "  </tbody>\n",
       "</table>\n",
       "</div>"
      ],
      "text/plain": [
       "        Stock Code Trading Month  Monthly Closing Price  \\\n",
       "342343      200429    2003-01-01                   3.19   \n",
       "451267      300699    2021-09-01                  65.52   \n",
       "714              4    2000-01-01                  13.39   \n",
       "\n",
       "        Market Value of Tradable Shares  \\\n",
       "342343                        968962.50   \n",
       "451267                      33291815.55   \n",
       "714                           557787.12   \n",
       "\n",
       "        Monthly Return With Cash Dividend Reinvested Quarter Stock Short Name  \\\n",
       "342343                                      0.096220  2002Q4              NaN   \n",
       "451267                                     -0.102957  2021Q2             GWFC   \n",
       "714                                         0.573443  1999Q4              NaN   \n",
       "\n",
       "       Ending Date of Statistics Statement Type  Total Assets  \\\n",
       "342343                       NaT            NaN           NaN   \n",
       "451267                2021-06-30              A  4.919905e+09   \n",
       "714                          NaT            NaN           NaN   \n",
       "\n",
       "        Total Liabilities  R&D Expenses  Earnings per Share - TTM1  \\\n",
       "342343                NaN           NaN                        NaN   \n",
       "451267        989627290.8   107136625.8                   1.393622   \n",
       "714                   NaN           NaN                        NaN   \n",
       "\n",
       "        Net Assets per Share  Return on Assets - B  Return on Equity - B  \\\n",
       "342343                   NaN                   NaN                   NaN   \n",
       "451267              7.582286              0.090533              0.113282   \n",
       "714                      NaN                   NaN                   NaN   \n",
       "\n",
       "        P/E Ratios  P/B Ratios  \n",
       "342343         NaN         NaN  \n",
       "451267   141.04255    8.641193  \n",
       "714            NaN         NaN  "
      ]
     },
     "execution_count": 12,
     "metadata": {},
     "output_type": "execute_result"
    }
   ],
   "source": [
    "df1[\"P/B Ratios\"] = df1[\"Monthly Closing Price\"]/df1[\"Net Assets per Share\"]\n",
    "df1.sample(3)"
   ]
  },
  {
   "cell_type": "markdown",
   "metadata": {},
   "source": [
    "#### Quarterly R&D expense/total asset ratios"
   ]
  },
  {
   "cell_type": "code",
   "execution_count": 13,
   "metadata": {},
   "outputs": [
    {
     "data": {
      "text/html": [
       "<div>\n",
       "<style scoped>\n",
       "    .dataframe tbody tr th:only-of-type {\n",
       "        vertical-align: middle;\n",
       "    }\n",
       "\n",
       "    .dataframe tbody tr th {\n",
       "        vertical-align: top;\n",
       "    }\n",
       "\n",
       "    .dataframe thead th {\n",
       "        text-align: right;\n",
       "    }\n",
       "</style>\n",
       "<table border=\"1\" class=\"dataframe\">\n",
       "  <thead>\n",
       "    <tr style=\"text-align: right;\">\n",
       "      <th></th>\n",
       "      <th>Stock Code</th>\n",
       "      <th>Stock Short Name</th>\n",
       "      <th>Ending Date of Statistics</th>\n",
       "      <th>Statement Type</th>\n",
       "      <th>Total Assets</th>\n",
       "      <th>Total Liabilities</th>\n",
       "      <th>R&amp;D Expenses</th>\n",
       "      <th>Earnings per Share - TTM1</th>\n",
       "      <th>Net Assets per Share</th>\n",
       "      <th>Return on Assets - B</th>\n",
       "      <th>Return on Equity - B</th>\n",
       "      <th>Quarter</th>\n",
       "      <th>Quarterly R&amp;D expense/total asset ratios</th>\n",
       "    </tr>\n",
       "  </thead>\n",
       "  <tbody>\n",
       "    <tr>\n",
       "      <th>147855</th>\n",
       "      <td>2299</td>\n",
       "      <td>SNFZ</td>\n",
       "      <td>2017-01-01</td>\n",
       "      <td>A</td>\n",
       "      <td>1.286185e+10</td>\n",
       "      <td>6.035438e+09</td>\n",
       "      <td>NaN</td>\n",
       "      <td>NaN</td>\n",
       "      <td>NaN</td>\n",
       "      <td>NaN</td>\n",
       "      <td>NaN</td>\n",
       "      <td>2017Q1</td>\n",
       "      <td>NaN</td>\n",
       "    </tr>\n",
       "    <tr>\n",
       "      <th>380861</th>\n",
       "      <td>600480</td>\n",
       "      <td>LYGF</td>\n",
       "      <td>2016-01-01</td>\n",
       "      <td>A</td>\n",
       "      <td>8.885173e+09</td>\n",
       "      <td>4.525649e+09</td>\n",
       "      <td>NaN</td>\n",
       "      <td>NaN</td>\n",
       "      <td>NaN</td>\n",
       "      <td>NaN</td>\n",
       "      <td>NaN</td>\n",
       "      <td>2016Q1</td>\n",
       "      <td>NaN</td>\n",
       "    </tr>\n",
       "    <tr>\n",
       "      <th>179497</th>\n",
       "      <td>2542</td>\n",
       "      <td>ZHYT</td>\n",
       "      <td>2010-12-31</td>\n",
       "      <td>A</td>\n",
       "      <td>1.904523e+08</td>\n",
       "      <td>6.922075e+07</td>\n",
       "      <td>NaN</td>\n",
       "      <td>0.87583</td>\n",
       "      <td>2.424631</td>\n",
       "      <td>0.258482</td>\n",
       "      <td>0.440843</td>\n",
       "      <td>2010Q4</td>\n",
       "      <td>NaN</td>\n",
       "    </tr>\n",
       "  </tbody>\n",
       "</table>\n",
       "</div>"
      ],
      "text/plain": [
       "        Stock Code Stock Short Name Ending Date of Statistics Statement Type  \\\n",
       "147855        2299             SNFZ                2017-01-01              A   \n",
       "380861      600480             LYGF                2016-01-01              A   \n",
       "179497        2542             ZHYT                2010-12-31              A   \n",
       "\n",
       "        Total Assets  Total Liabilities  R&D Expenses  \\\n",
       "147855  1.286185e+10       6.035438e+09           NaN   \n",
       "380861  8.885173e+09       4.525649e+09           NaN   \n",
       "179497  1.904523e+08       6.922075e+07           NaN   \n",
       "\n",
       "        Earnings per Share - TTM1  Net Assets per Share  Return on Assets - B  \\\n",
       "147855                        NaN                   NaN                   NaN   \n",
       "380861                        NaN                   NaN                   NaN   \n",
       "179497                    0.87583              2.424631              0.258482   \n",
       "\n",
       "        Return on Equity - B Quarter  Quarterly R&D expense/total asset ratios  \n",
       "147855                   NaN  2017Q1                                       NaN  \n",
       "380861                   NaN  2016Q1                                       NaN  \n",
       "179497              0.440843  2010Q4                                       NaN  "
      ]
     },
     "execution_count": 13,
     "metadata": {},
     "output_type": "execute_result"
    }
   ],
   "source": [
    "quarterly_asset[\"Quarterly R&D expense/total asset ratios\"] = quarterly_asset[\"R&D Expenses\"]/quarterly_asset[\"Total Assets\"]\n",
    "quarterly_asset.sample(3)"
   ]
  },
  {
   "cell_type": "markdown",
   "metadata": {},
   "source": [
    "#### Quarterly Firm Age"
   ]
  },
  {
   "cell_type": "code",
   "execution_count": 14,
   "metadata": {},
   "outputs": [
    {
     "data": {
      "text/html": [
       "<div>\n",
       "<style scoped>\n",
       "    .dataframe tbody tr th:only-of-type {\n",
       "        vertical-align: middle;\n",
       "    }\n",
       "\n",
       "    .dataframe tbody tr th {\n",
       "        vertical-align: top;\n",
       "    }\n",
       "\n",
       "    .dataframe thead th {\n",
       "        text-align: right;\n",
       "    }\n",
       "</style>\n",
       "<table border=\"1\" class=\"dataframe\">\n",
       "  <thead>\n",
       "    <tr style=\"text-align: right;\">\n",
       "      <th></th>\n",
       "      <th>Stock Code</th>\n",
       "      <th>Stock Acronym</th>\n",
       "      <th>Date Listed (Of Stock)</th>\n",
       "      <th>Establishment Date</th>\n",
       "      <th>Market Type</th>\n",
       "      <th>Quarter</th>\n",
       "      <th>Quarterly Firm Age</th>\n",
       "    </tr>\n",
       "  </thead>\n",
       "  <tbody>\n",
       "    <tr>\n",
       "      <th>427</th>\n",
       "      <td>2292</td>\n",
       "      <td>AFYL</td>\n",
       "      <td>2009-09-10</td>\n",
       "      <td>2007-06-27</td>\n",
       "      <td>4</td>\n",
       "      <td>2007Q2</td>\n",
       "      <td>71</td>\n",
       "    </tr>\n",
       "    <tr>\n",
       "      <th>2475</th>\n",
       "      <td>301439</td>\n",
       "      <td>HLDL</td>\n",
       "      <td>2023-03-17</td>\n",
       "      <td>1997-11-27</td>\n",
       "      <td>16</td>\n",
       "      <td>1997Q4</td>\n",
       "      <td>109</td>\n",
       "    </tr>\n",
       "    <tr>\n",
       "      <th>1419</th>\n",
       "      <td>300263</td>\n",
       "      <td>LHKJ</td>\n",
       "      <td>2011-09-16</td>\n",
       "      <td>1995-07-05</td>\n",
       "      <td>16</td>\n",
       "      <td>1995Q3</td>\n",
       "      <td>118</td>\n",
       "    </tr>\n",
       "  </tbody>\n",
       "</table>\n",
       "</div>"
      ],
      "text/plain": [
       "      Stock Code Stock Acronym Date Listed (Of Stock) Establishment Date  \\\n",
       "427         2292          AFYL             2009-09-10         2007-06-27   \n",
       "2475      301439          HLDL             2023-03-17         1997-11-27   \n",
       "1419      300263          LHKJ             2011-09-16         1995-07-05   \n",
       "\n",
       "      Market Type Quarter  Quarterly Firm Age  \n",
       "427             4  2007Q2                  71  \n",
       "2475           16  1997Q4                 109  \n",
       "1419           16  1995Q3                 118  "
      ]
     },
     "execution_count": 14,
     "metadata": {},
     "output_type": "execute_result"
    }
   ],
   "source": [
    "current_quarter = pd.to_datetime('now').to_period('Q')\n",
    "est_mar[\"Quarterly Firm Age\"] = (current_quarter - est_mar[\"Quarter\"]).apply(lambda x: x.n)\n",
    "est_mar.sample(3)"
   ]
  },
  {
   "cell_type": "markdown",
   "metadata": {},
   "source": [
    "## (b)"
   ]
  },
  {
   "cell_type": "markdown",
   "metadata": {},
   "source": [
    "To create statistics summary by market type. Market type corresponds to main board and GEM board. GEM refers to Global Emerging Markets Board. "
   ]
  },
  {
   "cell_type": "code",
   "execution_count": 15,
   "metadata": {},
   "outputs": [],
   "source": [
    "def markettype(x):\n",
    "    if x in [1, 2, 4, 8, 64]:\n",
    "        return 'main board'\n",
    "    elif x in [16, 32]:\n",
    "        return 'GEM board'\n",
    "    else:\n",
    "        return x\n",
    "\n",
    "est_mar['Board Category'] = est_mar['Market Type'].apply(lambda x: markettype(x))\n",
    "group_est_mar = est_mar.groupby('Board Category') # Group By Board name to calculate\n",
    "\n",
    "# Create mapping dictionary to map stock code and market type\n",
    "map_dict = est_mar.set_index('Stock Code')['Board Category'].to_dict()\n",
    "\n",
    "# Create column 'Board Category' for df1 and quarterly\n",
    "df1['Board Category'] = df1['Stock Code'].map(map_dict)\n",
    "quarterly_asset['Board Category'] = quarterly_asset['Stock Code'].map(map_dict)\n",
    "\n",
    "group_df1 = df1.groupby('Board Category')\n",
    "group_quarterly_asset = quarterly_asset.groupby('Board Category')\n"
   ]
  },
  {
   "cell_type": "markdown",
   "metadata": {},
   "source": [
    "### Summary Statistics Output"
   ]
  },
  {
   "cell_type": "markdown",
   "metadata": {},
   "source": [
    "##### Monthly Stock Returns"
   ]
  },
  {
   "cell_type": "code",
   "execution_count": 16,
   "metadata": {},
   "outputs": [
    {
     "data": {
      "text/html": [
       "<div>\n",
       "<style scoped>\n",
       "    .dataframe tbody tr th:only-of-type {\n",
       "        vertical-align: middle;\n",
       "    }\n",
       "\n",
       "    .dataframe tbody tr th {\n",
       "        vertical-align: top;\n",
       "    }\n",
       "\n",
       "    .dataframe thead th {\n",
       "        text-align: right;\n",
       "    }\n",
       "</style>\n",
       "<table border=\"1\" class=\"dataframe\">\n",
       "  <thead>\n",
       "    <tr style=\"text-align: right;\">\n",
       "      <th>Board Category</th>\n",
       "      <th>GEM board</th>\n",
       "      <th>main board</th>\n",
       "      <th>Attribute</th>\n",
       "    </tr>\n",
       "  </thead>\n",
       "  <tbody>\n",
       "    <tr>\n",
       "      <th>count</th>\n",
       "      <td>142146.000000</td>\n",
       "      <td>405943.000000</td>\n",
       "      <td>Monthly Return</td>\n",
       "    </tr>\n",
       "    <tr>\n",
       "      <th>mean</th>\n",
       "      <td>0.013712</td>\n",
       "      <td>0.010287</td>\n",
       "      <td>Monthly Return</td>\n",
       "    </tr>\n",
       "    <tr>\n",
       "      <th>std</th>\n",
       "      <td>0.180914</td>\n",
       "      <td>0.152823</td>\n",
       "      <td>Monthly Return</td>\n",
       "    </tr>\n",
       "    <tr>\n",
       "      <th>min</th>\n",
       "      <td>-0.863517</td>\n",
       "      <td>-0.882166</td>\n",
       "      <td>Monthly Return</td>\n",
       "    </tr>\n",
       "    <tr>\n",
       "      <th>25%</th>\n",
       "      <td>-0.083133</td>\n",
       "      <td>-0.070642</td>\n",
       "      <td>Monthly Return</td>\n",
       "    </tr>\n",
       "    <tr>\n",
       "      <th>50%</th>\n",
       "      <td>-0.002573</td>\n",
       "      <td>-0.002681</td>\n",
       "      <td>Monthly Return</td>\n",
       "    </tr>\n",
       "    <tr>\n",
       "      <th>75%</th>\n",
       "      <td>0.082664</td>\n",
       "      <td>0.072266</td>\n",
       "      <td>Monthly Return</td>\n",
       "    </tr>\n",
       "    <tr>\n",
       "      <th>max</th>\n",
       "      <td>6.399758</td>\n",
       "      <td>12.752209</td>\n",
       "      <td>Monthly Return</td>\n",
       "    </tr>\n",
       "  </tbody>\n",
       "</table>\n",
       "</div>"
      ],
      "text/plain": [
       "Board Category      GEM board     main board       Attribute\n",
       "count           142146.000000  405943.000000  Monthly Return\n",
       "mean                 0.013712       0.010287  Monthly Return\n",
       "std                  0.180914       0.152823  Monthly Return\n",
       "min                 -0.863517      -0.882166  Monthly Return\n",
       "25%                 -0.083133      -0.070642  Monthly Return\n",
       "50%                 -0.002573      -0.002681  Monthly Return\n",
       "75%                  0.082664       0.072266  Monthly Return\n",
       "max                  6.399758      12.752209  Monthly Return"
      ]
     },
     "execution_count": 16,
     "metadata": {},
     "output_type": "execute_result"
    }
   ],
   "source": [
    "stock_return_describe = group_df1['Monthly Return With Cash Dividend Reinvested'].describe().transpose()\n",
    "stock_return_describe['Attribute'] = 'Monthly Return'\n",
    "stock_return_describe"
   ]
  },
  {
   "cell_type": "markdown",
   "metadata": {},
   "source": [
    "##### Monthly P/E Ratio"
   ]
  },
  {
   "cell_type": "code",
   "execution_count": 17,
   "metadata": {},
   "outputs": [
    {
     "data": {
      "text/html": [
       "<div>\n",
       "<style scoped>\n",
       "    .dataframe tbody tr th:only-of-type {\n",
       "        vertical-align: middle;\n",
       "    }\n",
       "\n",
       "    .dataframe tbody tr th {\n",
       "        vertical-align: top;\n",
       "    }\n",
       "\n",
       "    .dataframe thead th {\n",
       "        text-align: right;\n",
       "    }\n",
       "</style>\n",
       "<table border=\"1\" class=\"dataframe\">\n",
       "  <thead>\n",
       "    <tr style=\"text-align: right;\">\n",
       "      <th>Board Category</th>\n",
       "      <th>GEM board</th>\n",
       "      <th>main board</th>\n",
       "      <th>Attribute</th>\n",
       "    </tr>\n",
       "  </thead>\n",
       "  <tbody>\n",
       "    <tr>\n",
       "      <th>count</th>\n",
       "      <td>1.041790e+05</td>\n",
       "      <td>3.069770e+05</td>\n",
       "      <td>P/E Ratios</td>\n",
       "    </tr>\n",
       "    <tr>\n",
       "      <th>mean</th>\n",
       "      <td>2.873325e+02</td>\n",
       "      <td>1.037289e+02</td>\n",
       "      <td>P/E Ratios</td>\n",
       "    </tr>\n",
       "    <tr>\n",
       "      <th>std</th>\n",
       "      <td>3.240330e+04</td>\n",
       "      <td>1.698133e+04</td>\n",
       "      <td>P/E Ratios</td>\n",
       "    </tr>\n",
       "    <tr>\n",
       "      <th>min</th>\n",
       "      <td>-2.078571e+06</td>\n",
       "      <td>-3.864000e+06</td>\n",
       "      <td>P/E Ratios</td>\n",
       "    </tr>\n",
       "    <tr>\n",
       "      <th>25%</th>\n",
       "      <td>7.260389e+01</td>\n",
       "      <td>4.305733e+01</td>\n",
       "      <td>P/E Ratios</td>\n",
       "    </tr>\n",
       "    <tr>\n",
       "      <th>50%</th>\n",
       "      <td>1.257424e+02</td>\n",
       "      <td>8.489260e+01</td>\n",
       "      <td>P/E Ratios</td>\n",
       "    </tr>\n",
       "    <tr>\n",
       "      <th>75%</th>\n",
       "      <td>2.168736e+02</td>\n",
       "      <td>1.580482e+02</td>\n",
       "      <td>P/E Ratios</td>\n",
       "    </tr>\n",
       "    <tr>\n",
       "      <th>max</th>\n",
       "      <td>6.262500e+06</td>\n",
       "      <td>1.230000e+06</td>\n",
       "      <td>P/E Ratios</td>\n",
       "    </tr>\n",
       "  </tbody>\n",
       "</table>\n",
       "</div>"
      ],
      "text/plain": [
       "Board Category     GEM board    main board   Attribute\n",
       "count           1.041790e+05  3.069770e+05  P/E Ratios\n",
       "mean            2.873325e+02  1.037289e+02  P/E Ratios\n",
       "std             3.240330e+04  1.698133e+04  P/E Ratios\n",
       "min            -2.078571e+06 -3.864000e+06  P/E Ratios\n",
       "25%             7.260389e+01  4.305733e+01  P/E Ratios\n",
       "50%             1.257424e+02  8.489260e+01  P/E Ratios\n",
       "75%             2.168736e+02  1.580482e+02  P/E Ratios\n",
       "max             6.262500e+06  1.230000e+06  P/E Ratios"
      ]
     },
     "execution_count": 17,
     "metadata": {},
     "output_type": "execute_result"
    }
   ],
   "source": [
    "pe_describe = group_df1[\"P/E Ratios\"].describe().transpose()\n",
    "pe_describe['Attribute'] = 'P/E Ratios'\n",
    "pe_describe"
   ]
  },
  {
   "cell_type": "markdown",
   "metadata": {},
   "source": [
    "##### Monthly P/B Ratio"
   ]
  },
  {
   "cell_type": "code",
   "execution_count": 18,
   "metadata": {},
   "outputs": [
    {
     "data": {
      "text/html": [
       "<div>\n",
       "<style scoped>\n",
       "    .dataframe tbody tr th:only-of-type {\n",
       "        vertical-align: middle;\n",
       "    }\n",
       "\n",
       "    .dataframe tbody tr th {\n",
       "        vertical-align: top;\n",
       "    }\n",
       "\n",
       "    .dataframe thead th {\n",
       "        text-align: right;\n",
       "    }\n",
       "</style>\n",
       "<table border=\"1\" class=\"dataframe\">\n",
       "  <thead>\n",
       "    <tr style=\"text-align: right;\">\n",
       "      <th>Board Category</th>\n",
       "      <th>GEM board</th>\n",
       "      <th>main board</th>\n",
       "      <th>Attribute</th>\n",
       "    </tr>\n",
       "  </thead>\n",
       "  <tbody>\n",
       "    <tr>\n",
       "      <th>count</th>\n",
       "      <td>113412.000000</td>\n",
       "      <td>322119.000000</td>\n",
       "      <td>P/B Ratios</td>\n",
       "    </tr>\n",
       "    <tr>\n",
       "      <th>mean</th>\n",
       "      <td>4.745476</td>\n",
       "      <td>1.211508</td>\n",
       "      <td>P/B Ratios</td>\n",
       "    </tr>\n",
       "    <tr>\n",
       "      <th>std</th>\n",
       "      <td>19.103507</td>\n",
       "      <td>828.089972</td>\n",
       "      <td>P/B Ratios</td>\n",
       "    </tr>\n",
       "    <tr>\n",
       "      <th>min</th>\n",
       "      <td>-733.511140</td>\n",
       "      <td>-282500.000000</td>\n",
       "      <td>P/B Ratios</td>\n",
       "    </tr>\n",
       "    <tr>\n",
       "      <th>25%</th>\n",
       "      <td>2.383897</td>\n",
       "      <td>1.645716</td>\n",
       "      <td>P/B Ratios</td>\n",
       "    </tr>\n",
       "    <tr>\n",
       "      <th>50%</th>\n",
       "      <td>3.525431</td>\n",
       "      <td>2.544111</td>\n",
       "      <td>P/B Ratios</td>\n",
       "    </tr>\n",
       "    <tr>\n",
       "      <th>75%</th>\n",
       "      <td>5.535721</td>\n",
       "      <td>4.023866</td>\n",
       "      <td>P/B Ratios</td>\n",
       "    </tr>\n",
       "    <tr>\n",
       "      <th>max</th>\n",
       "      <td>3484.119346</td>\n",
       "      <td>9346.110485</td>\n",
       "      <td>P/B Ratios</td>\n",
       "    </tr>\n",
       "  </tbody>\n",
       "</table>\n",
       "</div>"
      ],
      "text/plain": [
       "Board Category      GEM board     main board   Attribute\n",
       "count           113412.000000  322119.000000  P/B Ratios\n",
       "mean                 4.745476       1.211508  P/B Ratios\n",
       "std                 19.103507     828.089972  P/B Ratios\n",
       "min               -733.511140 -282500.000000  P/B Ratios\n",
       "25%                  2.383897       1.645716  P/B Ratios\n",
       "50%                  3.525431       2.544111  P/B Ratios\n",
       "75%                  5.535721       4.023866  P/B Ratios\n",
       "max               3484.119346    9346.110485  P/B Ratios"
      ]
     },
     "execution_count": 18,
     "metadata": {},
     "output_type": "execute_result"
    }
   ],
   "source": [
    "pb_describe = group_df1[\"P/B Ratios\"].describe().transpose()\n",
    "pb_describe['Attribute'] = 'P/B Ratios'\n",
    "pb_describe"
   ]
  },
  {
   "cell_type": "markdown",
   "metadata": {},
   "source": [
    "##### Quarterly ROA"
   ]
  },
  {
   "cell_type": "code",
   "execution_count": 19,
   "metadata": {},
   "outputs": [
    {
     "data": {
      "text/html": [
       "<div>\n",
       "<style scoped>\n",
       "    .dataframe tbody tr th:only-of-type {\n",
       "        vertical-align: middle;\n",
       "    }\n",
       "\n",
       "    .dataframe tbody tr th {\n",
       "        vertical-align: top;\n",
       "    }\n",
       "\n",
       "    .dataframe thead th {\n",
       "        text-align: right;\n",
       "    }\n",
       "</style>\n",
       "<table border=\"1\" class=\"dataframe\">\n",
       "  <thead>\n",
       "    <tr style=\"text-align: right;\">\n",
       "      <th>Board Category</th>\n",
       "      <th>GEM board</th>\n",
       "      <th>main board</th>\n",
       "      <th>Attribute</th>\n",
       "    </tr>\n",
       "  </thead>\n",
       "  <tbody>\n",
       "    <tr>\n",
       "      <th>count</th>\n",
       "      <td>40520.000000</td>\n",
       "      <td>113884.000000</td>\n",
       "      <td>ROA</td>\n",
       "    </tr>\n",
       "    <tr>\n",
       "      <th>mean</th>\n",
       "      <td>0.030474</td>\n",
       "      <td>0.029134</td>\n",
       "      <td>ROA</td>\n",
       "    </tr>\n",
       "    <tr>\n",
       "      <th>std</th>\n",
       "      <td>0.064770</td>\n",
       "      <td>0.060432</td>\n",
       "      <td>ROA</td>\n",
       "    </tr>\n",
       "    <tr>\n",
       "      <th>min</th>\n",
       "      <td>-1.878509</td>\n",
       "      <td>-1.871948</td>\n",
       "      <td>ROA</td>\n",
       "    </tr>\n",
       "    <tr>\n",
       "      <th>25%</th>\n",
       "      <td>0.006886</td>\n",
       "      <td>0.006322</td>\n",
       "      <td>ROA</td>\n",
       "    </tr>\n",
       "    <tr>\n",
       "      <th>50%</th>\n",
       "      <td>0.023760</td>\n",
       "      <td>0.020932</td>\n",
       "      <td>ROA</td>\n",
       "    </tr>\n",
       "    <tr>\n",
       "      <th>75%</th>\n",
       "      <td>0.052659</td>\n",
       "      <td>0.047413</td>\n",
       "      <td>ROA</td>\n",
       "    </tr>\n",
       "    <tr>\n",
       "      <th>max</th>\n",
       "      <td>0.968640</td>\n",
       "      <td>4.488980</td>\n",
       "      <td>ROA</td>\n",
       "    </tr>\n",
       "  </tbody>\n",
       "</table>\n",
       "</div>"
      ],
      "text/plain": [
       "Board Category     GEM board     main board Attribute\n",
       "count           40520.000000  113884.000000       ROA\n",
       "mean                0.030474       0.029134       ROA\n",
       "std                 0.064770       0.060432       ROA\n",
       "min                -1.878509      -1.871948       ROA\n",
       "25%                 0.006886       0.006322       ROA\n",
       "50%                 0.023760       0.020932       ROA\n",
       "75%                 0.052659       0.047413       ROA\n",
       "max                 0.968640       4.488980       ROA"
      ]
     },
     "execution_count": 19,
     "metadata": {},
     "output_type": "execute_result"
    }
   ],
   "source": [
    "roa_describe = group_quarterly_asset['Return on Assets - B'].describe().transpose()\n",
    "roa_describe['Attribute'] = 'ROA'\n",
    "roa_describe"
   ]
  },
  {
   "cell_type": "markdown",
   "metadata": {},
   "source": [
    "##### Quarterly ROE"
   ]
  },
  {
   "cell_type": "code",
   "execution_count": 20,
   "metadata": {},
   "outputs": [
    {
     "data": {
      "text/html": [
       "<div>\n",
       "<style scoped>\n",
       "    .dataframe tbody tr th:only-of-type {\n",
       "        vertical-align: middle;\n",
       "    }\n",
       "\n",
       "    .dataframe tbody tr th {\n",
       "        vertical-align: top;\n",
       "    }\n",
       "\n",
       "    .dataframe thead th {\n",
       "        text-align: right;\n",
       "    }\n",
       "</style>\n",
       "<table border=\"1\" class=\"dataframe\">\n",
       "  <thead>\n",
       "    <tr style=\"text-align: right;\">\n",
       "      <th>Board Category</th>\n",
       "      <th>GEM board</th>\n",
       "      <th>main board</th>\n",
       "      <th>Attribute</th>\n",
       "    </tr>\n",
       "  </thead>\n",
       "  <tbody>\n",
       "    <tr>\n",
       "      <th>count</th>\n",
       "      <td>40404.000000</td>\n",
       "      <td>113185.000000</td>\n",
       "      <td>ROE</td>\n",
       "    </tr>\n",
       "    <tr>\n",
       "      <th>mean</th>\n",
       "      <td>-0.007505</td>\n",
       "      <td>0.038693</td>\n",
       "      <td>ROE</td>\n",
       "    </tr>\n",
       "    <tr>\n",
       "      <th>std</th>\n",
       "      <td>8.739934</td>\n",
       "      <td>0.761782</td>\n",
       "      <td>ROE</td>\n",
       "    </tr>\n",
       "    <tr>\n",
       "      <th>min</th>\n",
       "      <td>-1756.043203</td>\n",
       "      <td>-174.894720</td>\n",
       "      <td>ROE</td>\n",
       "    </tr>\n",
       "    <tr>\n",
       "      <th>25%</th>\n",
       "      <td>0.010636</td>\n",
       "      <td>0.013700</td>\n",
       "      <td>ROE</td>\n",
       "    </tr>\n",
       "    <tr>\n",
       "      <th>50%</th>\n",
       "      <td>0.035155</td>\n",
       "      <td>0.040717</td>\n",
       "      <td>ROE</td>\n",
       "    </tr>\n",
       "    <tr>\n",
       "      <th>75%</th>\n",
       "      <td>0.076198</td>\n",
       "      <td>0.084706</td>\n",
       "      <td>ROE</td>\n",
       "    </tr>\n",
       "    <tr>\n",
       "      <th>max</th>\n",
       "      <td>1.319279</td>\n",
       "      <td>14.020950</td>\n",
       "      <td>ROE</td>\n",
       "    </tr>\n",
       "  </tbody>\n",
       "</table>\n",
       "</div>"
      ],
      "text/plain": [
       "Board Category     GEM board     main board Attribute\n",
       "count           40404.000000  113185.000000       ROE\n",
       "mean               -0.007505       0.038693       ROE\n",
       "std                 8.739934       0.761782       ROE\n",
       "min             -1756.043203    -174.894720       ROE\n",
       "25%                 0.010636       0.013700       ROE\n",
       "50%                 0.035155       0.040717       ROE\n",
       "75%                 0.076198       0.084706       ROE\n",
       "max                 1.319279      14.020950       ROE"
      ]
     },
     "execution_count": 20,
     "metadata": {},
     "output_type": "execute_result"
    }
   ],
   "source": [
    "roe_describe = group_quarterly_asset['Return on Equity - B'].describe().transpose()\n",
    "roe_describe['Attribute'] = 'ROE'\n",
    "roe_describe"
   ]
  },
  {
   "cell_type": "markdown",
   "metadata": {},
   "source": [
    "##### Quarterly RD Ratio"
   ]
  },
  {
   "cell_type": "code",
   "execution_count": 21,
   "metadata": {},
   "outputs": [
    {
     "data": {
      "text/html": [
       "<div>\n",
       "<style scoped>\n",
       "    .dataframe tbody tr th:only-of-type {\n",
       "        vertical-align: middle;\n",
       "    }\n",
       "\n",
       "    .dataframe tbody tr th {\n",
       "        vertical-align: top;\n",
       "    }\n",
       "\n",
       "    .dataframe thead th {\n",
       "        text-align: right;\n",
       "    }\n",
       "</style>\n",
       "<table border=\"1\" class=\"dataframe\">\n",
       "  <thead>\n",
       "    <tr style=\"text-align: right;\">\n",
       "      <th>Board Category</th>\n",
       "      <th>GEM board</th>\n",
       "      <th>main board</th>\n",
       "      <th>Attribute</th>\n",
       "    </tr>\n",
       "  </thead>\n",
       "  <tbody>\n",
       "    <tr>\n",
       "      <th>count</th>\n",
       "      <td>33970.000000</td>\n",
       "      <td>58296.000000</td>\n",
       "      <td>RD Ratio</td>\n",
       "    </tr>\n",
       "    <tr>\n",
       "      <th>mean</th>\n",
       "      <td>0.024883</td>\n",
       "      <td>0.016559</td>\n",
       "      <td>RD Ratio</td>\n",
       "    </tr>\n",
       "    <tr>\n",
       "      <th>std</th>\n",
       "      <td>0.034907</td>\n",
       "      <td>0.019116</td>\n",
       "      <td>RD Ratio</td>\n",
       "    </tr>\n",
       "    <tr>\n",
       "      <th>min</th>\n",
       "      <td>-0.001571</td>\n",
       "      <td>-0.002272</td>\n",
       "      <td>RD Ratio</td>\n",
       "    </tr>\n",
       "    <tr>\n",
       "      <th>25%</th>\n",
       "      <td>0.008797</td>\n",
       "      <td>0.004221</td>\n",
       "      <td>RD Ratio</td>\n",
       "    </tr>\n",
       "    <tr>\n",
       "      <th>50%</th>\n",
       "      <td>0.017703</td>\n",
       "      <td>0.011495</td>\n",
       "      <td>RD Ratio</td>\n",
       "    </tr>\n",
       "    <tr>\n",
       "      <th>75%</th>\n",
       "      <td>0.030987</td>\n",
       "      <td>0.022838</td>\n",
       "      <td>RD Ratio</td>\n",
       "    </tr>\n",
       "    <tr>\n",
       "      <th>max</th>\n",
       "      <td>2.695974</td>\n",
       "      <td>0.871737</td>\n",
       "      <td>RD Ratio</td>\n",
       "    </tr>\n",
       "  </tbody>\n",
       "</table>\n",
       "</div>"
      ],
      "text/plain": [
       "Board Category     GEM board    main board Attribute\n",
       "count           33970.000000  58296.000000  RD Ratio\n",
       "mean                0.024883      0.016559  RD Ratio\n",
       "std                 0.034907      0.019116  RD Ratio\n",
       "min                -0.001571     -0.002272  RD Ratio\n",
       "25%                 0.008797      0.004221  RD Ratio\n",
       "50%                 0.017703      0.011495  RD Ratio\n",
       "75%                 0.030987      0.022838  RD Ratio\n",
       "max                 2.695974      0.871737  RD Ratio"
      ]
     },
     "execution_count": 21,
     "metadata": {},
     "output_type": "execute_result"
    }
   ],
   "source": [
    "rd_describe = group_quarterly_asset['Quarterly R&D expense/total asset ratios'].describe().transpose()\n",
    "rd_describe['Attribute'] = 'RD Ratio'\n",
    "rd_describe"
   ]
  },
  {
   "cell_type": "markdown",
   "metadata": {},
   "source": [
    "##### Firm Age"
   ]
  },
  {
   "cell_type": "code",
   "execution_count": 22,
   "metadata": {},
   "outputs": [
    {
     "data": {
      "text/html": [
       "<div>\n",
       "<style scoped>\n",
       "    .dataframe tbody tr th:only-of-type {\n",
       "        vertical-align: middle;\n",
       "    }\n",
       "\n",
       "    .dataframe tbody tr th {\n",
       "        vertical-align: top;\n",
       "    }\n",
       "\n",
       "    .dataframe thead th {\n",
       "        text-align: right;\n",
       "    }\n",
       "</style>\n",
       "<table border=\"1\" class=\"dataframe\">\n",
       "  <thead>\n",
       "    <tr style=\"text-align: right;\">\n",
       "      <th>Board Category</th>\n",
       "      <th>GEM board</th>\n",
       "      <th>main board</th>\n",
       "      <th>Attribute</th>\n",
       "    </tr>\n",
       "  </thead>\n",
       "  <tbody>\n",
       "    <tr>\n",
       "      <th>count</th>\n",
       "      <td>1910.000000</td>\n",
       "      <td>2699.000000</td>\n",
       "      <td>Firm Ages</td>\n",
       "    </tr>\n",
       "    <tr>\n",
       "      <th>mean</th>\n",
       "      <td>82.734031</td>\n",
       "      <td>95.566506</td>\n",
       "      <td>Firm Ages</td>\n",
       "    </tr>\n",
       "    <tr>\n",
       "      <th>std</th>\n",
       "      <td>22.705333</td>\n",
       "      <td>22.449175</td>\n",
       "      <td>Firm Ages</td>\n",
       "    </tr>\n",
       "    <tr>\n",
       "      <th>min</th>\n",
       "      <td>28.000000</td>\n",
       "      <td>29.000000</td>\n",
       "      <td>Firm Ages</td>\n",
       "    </tr>\n",
       "    <tr>\n",
       "      <th>25%</th>\n",
       "      <td>67.000000</td>\n",
       "      <td>81.000000</td>\n",
       "      <td>Firm Ages</td>\n",
       "    </tr>\n",
       "    <tr>\n",
       "      <th>50%</th>\n",
       "      <td>83.000000</td>\n",
       "      <td>96.000000</td>\n",
       "      <td>Firm Ages</td>\n",
       "    </tr>\n",
       "    <tr>\n",
       "      <th>75%</th>\n",
       "      <td>96.000000</td>\n",
       "      <td>108.000000</td>\n",
       "      <td>Firm Ages</td>\n",
       "    </tr>\n",
       "    <tr>\n",
       "      <th>max</th>\n",
       "      <td>176.000000</td>\n",
       "      <td>268.000000</td>\n",
       "      <td>Firm Ages</td>\n",
       "    </tr>\n",
       "  </tbody>\n",
       "</table>\n",
       "</div>"
      ],
      "text/plain": [
       "Board Category    GEM board   main board  Attribute\n",
       "count           1910.000000  2699.000000  Firm Ages\n",
       "mean              82.734031    95.566506  Firm Ages\n",
       "std               22.705333    22.449175  Firm Ages\n",
       "min               28.000000    29.000000  Firm Ages\n",
       "25%               67.000000    81.000000  Firm Ages\n",
       "50%               83.000000    96.000000  Firm Ages\n",
       "75%               96.000000   108.000000  Firm Ages\n",
       "max              176.000000   268.000000  Firm Ages"
      ]
     },
     "execution_count": 22,
     "metadata": {},
     "output_type": "execute_result"
    }
   ],
   "source": [
    "firm_ages_describe = group_est_mar['Quarterly Firm Age'].describe().transpose()\n",
    "firm_ages_describe['Attribute'] = 'Firm Ages'\n",
    "firm_ages_describe"
   ]
  },
  {
   "cell_type": "markdown",
   "metadata": {},
   "source": [
    "# Q2 Analyzing Time Series "
   ]
  },
  {
   "cell_type": "markdown",
   "metadata": {},
   "source": [
    "Plot Two time series for median P/E Ratios by Market Type. "
   ]
  },
  {
   "cell_type": "code",
   "execution_count": 23,
   "metadata": {},
   "outputs": [
    {
     "data": {
      "text/plain": [
       "Stock Code                                               int64\n",
       "Trading Month                                   datetime64[ns]\n",
       "Monthly Closing Price                                  float64\n",
       "Market Value of Tradable Shares                        float64\n",
       "Monthly Return With Cash Dividend Reinvested           float64\n",
       "Quarter                                          period[Q-DEC]\n",
       "Stock Short Name                                        object\n",
       "Ending Date of Statistics                       datetime64[ns]\n",
       "Statement Type                                          object\n",
       "Total Assets                                           float64\n",
       "Total Liabilities                                      float64\n",
       "R&D Expenses                                           float64\n",
       "Earnings per Share - TTM1                              float64\n",
       "Net Assets per Share                                   float64\n",
       "Return on Assets - B                                   float64\n",
       "Return on Equity - B                                   float64\n",
       "P/E Ratios                                             float64\n",
       "P/B Ratios                                             float64\n",
       "Board Category                                          object\n",
       "dtype: object"
      ]
     },
     "execution_count": 23,
     "metadata": {},
     "output_type": "execute_result"
    }
   ],
   "source": [
    "# Select data only from \n",
    "df1.dtypes"
   ]
  },
  {
   "cell_type": "markdown",
   "metadata": {},
   "source": [
    "Use pivot table to group the data."
   ]
  },
  {
   "cell_type": "code",
   "execution_count": null,
   "metadata": {},
   "outputs": [],
   "source": [
    "pe_median_group = df1.pivot_table(\n",
    "    values='P/E Ratios', \n",
    "    index='Board Category', \n",
    "    columns='Trading Month', \n",
    "    aggfunc='median'\n",
    ")\n",
    "\n",
    "time = pd.to_datetime(pe_median_group.columns)\n",
    "\n",
    "# Extract the data for 'main_board' and 'gem board' categories\n",
    "main_board_data = pe_median_group.loc['main board'].values\n",
    "gem_data = pe_median_group.loc['GEM board'].values\n",
    "\n",
    "time_yearly = time[::12]\n",
    "main_board_data_yearly = main_board_data[::12]\n",
    "gem_data_yearly = gem_data[::12]"
   ]
  },
  {
   "cell_type": "code",
   "execution_count": 29,
   "metadata": {},
   "outputs": [
    {
     "data": {
      "image/png": "[encoded data removed]",
      "text/plain": [
       "<Figure size 640x480 with 1 Axes>"
      ]
     },
     "metadata": {},
     "output_type": "display_data"
    }
   ],
   "source": [
    "fig, ax = plt.subplots()\n",
    "\n",
    "ax.plot(time, main_board_data, label='GEM', marker='x', markersize=3, color='g')\n",
    "ax.plot(time, gem_data, label='Main Board', marker='x', markersize=3, color='r')\n",
    "\n",
    "# Add the highest value notations\n",
    "max_main_board = main_board_data.max()\n",
    "max_gem = np.nan_to_num(gem_data,nan=0).max()\n",
    "\n",
    "ax.set_title('Time Series for Median P/E Ratio by Market Type')\n",
    "ax.set_xlabel('Time')\n",
    "ax.set_ylabel('P/E Ratio Median')\n",
    "ax.legend()\n",
    "ax.grid(True)\n",
    "\n",
    "# Manually set x-axis ticks and labels\n",
    "ax.set_xticks(time_yearly)\n",
    "ax.set_xticklabels([str(year.year) for year in time_yearly], rotation=45)\n",
    "\n",
    "plt.tight_layout()\n",
    "plt.show()\n"
   ]
  }
 ],
 "metadata": {
  "kernelspec": {
   "display_name": "base",
   "language": "python",
   "name": "python3"
  },
  "language_info": {
   "codemirror_mode": {
    "name": "ipython",
    "version": 3
   },
   "file_extension": ".py",
   "mimetype": "text/x-python",
   "name": "python",
   "nbconvert_exporter": "python",
   "pygments_lexer": "ipython3",
   "version": "3.12.2"
  }
 },
 "nbformat": 4,
 "nbformat_minor": 2
}
